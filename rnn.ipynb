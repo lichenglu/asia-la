{
 "cells": [
  {
   "cell_type": "code",
   "execution_count": 46,
   "metadata": {},
   "outputs": [],
   "source": [
    "import pandas as pd\n",
    "import numpy as np"
   ]
  },
  {
   "cell_type": "code",
   "execution_count": 2,
   "metadata": {},
   "outputs": [],
   "source": [
    "df = pd.read_csv('./all.csv')"
   ]
  },
  {
   "cell_type": "code",
   "execution_count": 9,
   "metadata": {},
   "outputs": [
    {
     "data": {
      "text/html": [
       "<div>\n",
       "<style scoped>\n",
       "    .dataframe tbody tr th:only-of-type {\n",
       "        vertical-align: middle;\n",
       "    }\n",
       "\n",
       "    .dataframe tbody tr th {\n",
       "        vertical-align: top;\n",
       "    }\n",
       "\n",
       "    .dataframe thead th {\n",
       "        text-align: right;\n",
       "    }\n",
       "</style>\n",
       "<table border=\"1\" class=\"dataframe\">\n",
       "  <thead>\n",
       "    <tr style=\"text-align: right;\">\n",
       "      <th></th>\n",
       "      <th>code</th>\n",
       "      <th>text</th>\n",
       "    </tr>\n",
       "  </thead>\n",
       "  <tbody>\n",
       "    <tr>\n",
       "      <th>0</th>\n",
       "      <td>Positive Activating</td>\n",
       "      <td>I found another interesting clue in your first...</td>\n",
       "    </tr>\n",
       "    <tr>\n",
       "      <th>1</th>\n",
       "      <td>Personal advice</td>\n",
       "      <td>It is good to see more details on this.</td>\n",
       "    </tr>\n",
       "    <tr>\n",
       "      <th>2</th>\n",
       "      <td>Vocatives (addressing individual)</td>\n",
       "      <td>Hi Daniel,Thanks for your comments.</td>\n",
       "    </tr>\n",
       "    <tr>\n",
       "      <th>3</th>\n",
       "      <td>Positive Deactivating</td>\n",
       "      <td>This is cool!This confirms my personal impress...</td>\n",
       "    </tr>\n",
       "    <tr>\n",
       "      <th>4</th>\n",
       "      <td>Complementing, expressing appreciation</td>\n",
       "      <td>The final result is quite compelling and reall...</td>\n",
       "    </tr>\n",
       "  </tbody>\n",
       "</table>\n",
       "</div>"
      ],
      "text/plain": [
       "                                     code  \\\n",
       "0                     Positive Activating   \n",
       "1                         Personal advice   \n",
       "2       Vocatives (addressing individual)   \n",
       "3                   Positive Deactivating   \n",
       "4  Complementing, expressing appreciation   \n",
       "\n",
       "                                                text  \n",
       "0  I found another interesting clue in your first...  \n",
       "1            It is good to see more details on this.  \n",
       "2                Hi Daniel,Thanks for your comments.  \n",
       "3  This is cool!This confirms my personal impress...  \n",
       "4  The final result is quite compelling and reall...  "
      ]
     },
     "execution_count": 9,
     "metadata": {},
     "output_type": "execute_result"
    }
   ],
   "source": [
    "df.head()"
   ]
  },
  {
   "cell_type": "code",
   "execution_count": 20,
   "metadata": {},
   "outputs": [
    {
     "data": {
      "text/plain": [
       "code\n",
       "Addresses or refers to the group using inclusive pronouns (addressing the whole group)     15\n",
       "Asking questions                                                                          180\n",
       "Complementing, expressing appreciation                                                    371\n",
       "Course reflection                                                                           2\n",
       "Expressing agreement                                                                       79\n",
       "Expressing disagreement                                                                    28\n",
       "Group cohesion                                                                              1\n",
       "Negative Activating                                                                       157\n",
       "Negative Deactivating                                                                      67\n",
       "Open communication                                                                          2\n",
       "Personal advice                                                                           202\n",
       "Phatics, salutations and greetings, Social sharing                                         66\n",
       "Positive Activating                                                                       220\n",
       "Positive Deactivating                                                                      30\n",
       "Quoting from others' messages & Referring explicitly to others' messages                   43\n",
       "Self-disclosure & expressing values                                                        57\n",
       "Unconventional emotion expression                                                          56\n",
       "Vocatives (addressing individual)                                                         183\n",
       "Name: text, dtype: int64"
      ]
     },
     "execution_count": 20,
     "metadata": {},
     "output_type": "execute_result"
    }
   ],
   "source": [
    "df.groupby('code')['text'].count()"
   ]
  },
  {
   "cell_type": "code",
   "execution_count": 211,
   "metadata": {},
   "outputs": [
    {
     "data": {
      "text/plain": [
       "code\n",
       "Asking questions                                      180\n",
       "Complementing, expressing appreciation                371\n",
       "Expressing agreement                                   79\n",
       "Negative Activating                                   157\n",
       "Negative Deactivating                                  67\n",
       "Personal advice                                       202\n",
       "Phatics, salutations and greetings, Social sharing     66\n",
       "Positive Activating                                   220\n",
       "Self-disclosure & expressing values                    57\n",
       "Unconventional emotion expression                      56\n",
       "Vocatives (addressing individual)                     183\n",
       "Name: text, dtype: int64"
      ]
     },
     "execution_count": 211,
     "metadata": {},
     "output_type": "execute_result"
    }
   ],
   "source": [
    "over_50_cols = [\n",
    "    'Asking questions', 'Complementing, expressing appreciation', 'Expressing agreement',\n",
    "    'Negative Activating', 'Negative Deactivating', 'Personal advice',\n",
    "    'Phatics, salutations and greetings, Social sharing', 'Positive Activating',\n",
    "    'Self-disclosure & expressing values', 'Unconventional emotion expression', 'Vocatives (addressing individual)'\n",
    "]\n",
    "# over_100_cols = [\n",
    "#     'Asking questions', 'Complementing, expressing appreciation',\n",
    "#     'Negative Activating', 'Personal advice',\n",
    "#     'Vocatives (addressing individual)'\n",
    "# ]\n",
    "df_over_50 = df[df['code'].isin(over_50_cols)]\n",
    "df_over_50.groupby('code')['text'].count()"
   ]
  },
  {
   "cell_type": "code",
   "execution_count": 212,
   "metadata": {},
   "outputs": [],
   "source": [
    "df_cleaned.to_csv('./filtered.csv')"
   ]
  },
  {
   "cell_type": "code",
   "execution_count": 213,
   "metadata": {},
   "outputs": [],
   "source": [
    "import re\n",
    "def standardize_text(df, text_field):\n",
    "    df[text_field] = df[text_field].str.replace(r\"http\\S+\", \"\")\n",
    "    df[text_field] = df[text_field].str.replace(r\"http\", \"\")\n",
    "    df[text_field] = df[text_field].str.replace(r\"@\\S+\", \"\")\n",
    "    df[text_field] = df[text_field].str.replace(r\"[^A-Za-z0-9(),!?@\\'\\`\\\"\\_\\n]\", \" \")\n",
    "    df[text_field] = df[text_field].str.replace(r\"@\", \"at\")\n",
    "    \n",
    "    df[text_field] = df[text_field].str.lower()\n",
    "    return df"
   ]
  },
  {
   "cell_type": "code",
   "execution_count": 214,
   "metadata": {},
   "outputs": [
    {
     "name": "stderr",
     "output_type": "stream",
     "text": [
      "/Users/chengluli/anaconda2/envs/stan/lib/python3.7/site-packages/ipykernel_launcher.py:3: SettingWithCopyWarning: \n",
      "A value is trying to be set on a copy of a slice from a DataFrame.\n",
      "Try using .loc[row_indexer,col_indexer] = value instead\n",
      "\n",
      "See the caveats in the documentation: http://pandas.pydata.org/pandas-docs/stable/indexing.html#indexing-view-versus-copy\n",
      "  This is separate from the ipykernel package so we can avoid doing imports until\n",
      "/Users/chengluli/anaconda2/envs/stan/lib/python3.7/site-packages/ipykernel_launcher.py:4: SettingWithCopyWarning: \n",
      "A value is trying to be set on a copy of a slice from a DataFrame.\n",
      "Try using .loc[row_indexer,col_indexer] = value instead\n",
      "\n",
      "See the caveats in the documentation: http://pandas.pydata.org/pandas-docs/stable/indexing.html#indexing-view-versus-copy\n",
      "  after removing the cwd from sys.path.\n",
      "/Users/chengluli/anaconda2/envs/stan/lib/python3.7/site-packages/ipykernel_launcher.py:5: SettingWithCopyWarning: \n",
      "A value is trying to be set on a copy of a slice from a DataFrame.\n",
      "Try using .loc[row_indexer,col_indexer] = value instead\n",
      "\n",
      "See the caveats in the documentation: http://pandas.pydata.org/pandas-docs/stable/indexing.html#indexing-view-versus-copy\n",
      "  \"\"\"\n",
      "/Users/chengluli/anaconda2/envs/stan/lib/python3.7/site-packages/ipykernel_launcher.py:6: SettingWithCopyWarning: \n",
      "A value is trying to be set on a copy of a slice from a DataFrame.\n",
      "Try using .loc[row_indexer,col_indexer] = value instead\n",
      "\n",
      "See the caveats in the documentation: http://pandas.pydata.org/pandas-docs/stable/indexing.html#indexing-view-versus-copy\n",
      "  \n",
      "/Users/chengluli/anaconda2/envs/stan/lib/python3.7/site-packages/ipykernel_launcher.py:7: SettingWithCopyWarning: \n",
      "A value is trying to be set on a copy of a slice from a DataFrame.\n",
      "Try using .loc[row_indexer,col_indexer] = value instead\n",
      "\n",
      "See the caveats in the documentation: http://pandas.pydata.org/pandas-docs/stable/indexing.html#indexing-view-versus-copy\n",
      "  import sys\n",
      "/Users/chengluli/anaconda2/envs/stan/lib/python3.7/site-packages/ipykernel_launcher.py:9: SettingWithCopyWarning: \n",
      "A value is trying to be set on a copy of a slice from a DataFrame.\n",
      "Try using .loc[row_indexer,col_indexer] = value instead\n",
      "\n",
      "See the caveats in the documentation: http://pandas.pydata.org/pandas-docs/stable/indexing.html#indexing-view-versus-copy\n",
      "  if __name__ == '__main__':\n"
     ]
    },
    {
     "data": {
      "text/html": [
       "<div>\n",
       "<style scoped>\n",
       "    .dataframe tbody tr th:only-of-type {\n",
       "        vertical-align: middle;\n",
       "    }\n",
       "\n",
       "    .dataframe tbody tr th {\n",
       "        vertical-align: top;\n",
       "    }\n",
       "\n",
       "    .dataframe thead th {\n",
       "        text-align: right;\n",
       "    }\n",
       "</style>\n",
       "<table border=\"1\" class=\"dataframe\">\n",
       "  <thead>\n",
       "    <tr style=\"text-align: right;\">\n",
       "      <th></th>\n",
       "      <th>code</th>\n",
       "      <th>text</th>\n",
       "    </tr>\n",
       "  </thead>\n",
       "  <tbody>\n",
       "    <tr>\n",
       "      <th>0</th>\n",
       "      <td>Positive Activating</td>\n",
       "      <td>i found another interesting clue in your first...</td>\n",
       "    </tr>\n",
       "    <tr>\n",
       "      <th>1</th>\n",
       "      <td>Personal advice</td>\n",
       "      <td>it is good to see more details on this</td>\n",
       "    </tr>\n",
       "    <tr>\n",
       "      <th>2</th>\n",
       "      <td>Vocatives (addressing individual)</td>\n",
       "      <td>hi daniel,thanks for your comments</td>\n",
       "    </tr>\n",
       "    <tr>\n",
       "      <th>4</th>\n",
       "      <td>Complementing, expressing appreciation</td>\n",
       "      <td>the final result is quite compelling and reall...</td>\n",
       "    </tr>\n",
       "    <tr>\n",
       "      <th>5</th>\n",
       "      <td>Negative Activating</td>\n",
       "      <td>i love the lead and the conclusion drawn by th...</td>\n",
       "    </tr>\n",
       "  </tbody>\n",
       "</table>\n",
       "</div>"
      ],
      "text/plain": [
       "                                     code  \\\n",
       "0                     Positive Activating   \n",
       "1                         Personal advice   \n",
       "2       Vocatives (addressing individual)   \n",
       "4  Complementing, expressing appreciation   \n",
       "5                     Negative Activating   \n",
       "\n",
       "                                                text  \n",
       "0  i found another interesting clue in your first...  \n",
       "1            it is good to see more details on this   \n",
       "2                hi daniel,thanks for your comments   \n",
       "4  the final result is quite compelling and reall...  \n",
       "5  i love the lead and the conclusion drawn by th...  "
      ]
     },
     "execution_count": 214,
     "metadata": {},
     "output_type": "execute_result"
    }
   ],
   "source": [
    "df_cleaned = standardize_text(df_over_50, 'text')\n",
    "df_cleaned.head()"
   ]
  },
  {
   "cell_type": "code",
   "execution_count": 215,
   "metadata": {},
   "outputs": [],
   "source": [
    "from sklearn.model_selection import train_test_split\n",
    "\n",
    "X_train, X_test, y_train, y_test = train_test_split(\n",
    "    df_cleaned['text'], \n",
    "    df_cleaned['code'], \n",
    "    test_size=0.25, \n",
    "    random_state=40\n",
    ")"
   ]
  },
  {
   "cell_type": "code",
   "execution_count": 216,
   "metadata": {},
   "outputs": [
    {
     "name": "stderr",
     "output_type": "stream",
     "text": [
      "/Users/chengluli/anaconda2/envs/stan/lib/python3.7/site-packages/ipykernel_launcher.py:4: SettingWithCopyWarning: \n",
      "A value is trying to be set on a copy of a slice from a DataFrame.\n",
      "Try using .loc[row_indexer,col_indexer] = value instead\n",
      "\n",
      "See the caveats in the documentation: http://pandas.pydata.org/pandas-docs/stable/indexing.html#indexing-view-versus-copy\n",
      "  after removing the cwd from sys.path.\n"
     ]
    }
   ],
   "source": [
    "from nltk.tokenize import RegexpTokenizer\n",
    "tokenizer = RegexpTokenizer(r'\\w+')\n",
    "\n",
    "df_cleaned[\"tokens\"] = df_cleaned[\"text\"].apply(tokenizer.tokenize)"
   ]
  },
  {
   "cell_type": "code",
   "execution_count": 217,
   "metadata": {},
   "outputs": [
    {
     "name": "stdout",
     "output_type": "stream",
     "text": [
      "21104 words total, with a vocabulary size of 2774\n",
      "Max sentence length is 55\n"
     ]
    }
   ],
   "source": [
    "from keras.preprocessing.text import Tokenizer\n",
    "from keras.preprocessing.sequence import pad_sequences\n",
    "from keras.utils import to_categorical\n",
    "\n",
    "all_words = [word for tokens in df_cleaned[\"tokens\"] for word in tokens]\n",
    "sentence_lengths = [len(tokens) for tokens in df_cleaned[\"tokens\"]]\n",
    "VOCAB = sorted(list(set(all_words)))\n",
    "print(\"%s words total, with a vocabulary size of %s\" % (len(all_words), len(VOCAB)))\n",
    "print(\"Max sentence length is %s\" % max(sentence_lengths))"
   ]
  },
  {
   "cell_type": "code",
   "execution_count": 29,
   "metadata": {},
   "outputs": [],
   "source": [
    "import gensim\n",
    "\n",
    "word2vec_path = \"GoogleNews-vectors-negative300.bin.gz\"\n",
    "word2vec = gensim.models.KeyedVectors.load_word2vec_format(word2vec_path, binary=True)"
   ]
  },
  {
   "cell_type": "code",
   "execution_count": 218,
   "metadata": {},
   "outputs": [],
   "source": [
    "def get_average_word2vec(tokens_list, vector, generate_missing=False, k=300):\n",
    "    if len(tokens_list) < 1:\n",
    "        return np.zeros(k)\n",
    "    if generate_missing:\n",
    "        vectorized = [vector[word] if word in vector else np.random.rand(k) for word in tokens_list]\n",
    "    else:\n",
    "        vectorized = [vector[word] if word in vector else np.zeros(k) for word in tokens_list]\n",
    "    length = len(vectorized)\n",
    "    summed = np.sum(vectorized, axis=0)\n",
    "    averaged = np.divide(summed, length)\n",
    "    return averaged\n",
    "\n",
    "def get_word2vec_embeddings(vectors, clean_questions, generate_missing=False):\n",
    "    embeddings = clean_questions['tokens'].apply(lambda x: get_average_word2vec(x, vectors, \n",
    "                                                                                generate_missing=generate_missing))\n",
    "    return list(embeddings)"
   ]
  },
  {
   "cell_type": "code",
   "execution_count": 219,
   "metadata": {},
   "outputs": [],
   "source": [
    "embeddings = get_word2vec_embeddings(word2vec, df_cleaned)"
   ]
  },
  {
   "cell_type": "markdown",
   "metadata": {},
   "source": [
    "## RNN"
   ]
  },
  {
   "cell_type": "code",
   "execution_count": 220,
   "metadata": {},
   "outputs": [
    {
     "name": "stdout",
     "output_type": "stream",
     "text": [
      "Found 2774 unique tokens.\n",
      "(2775, 300)\n"
     ]
    }
   ],
   "source": [
    "EMBEDDING_DIM = 300\n",
    "MAX_SEQUENCE_LENGTH = max(sentence_lengths)\n",
    "VOCAB_SIZE = len(VOCAB)\n",
    "\n",
    "VALIDATION_SPLIT=.2\n",
    "tokenizer = Tokenizer(num_words=VOCAB_SIZE)\n",
    "tokenizer.fit_on_texts(df_cleaned[\"text\"].tolist())\n",
    "sequences = tokenizer.texts_to_sequences(df_cleaned[\"text\"].tolist())\n",
    "\n",
    "rnn_data = pad_sequences(sequences, maxlen=MAX_SEQUENCE_LENGTH)\n",
    "\n",
    "factorized_codes = pd.factorize(df_cleaned[\"code\"])[0]\n",
    "factorized_codes_dict = pd.factorize(df_cleaned[\"code\"])[1]\n",
    "\n",
    "labels = factorized_codes\n",
    "\n",
    "indices = np.arange(rnn_data.shape[0])\n",
    "np.random.shuffle(indices)\n",
    "rnn_data = rnn_data[indices]\n",
    "labels = labels[indices]\n",
    "num_validation_samples = int(VALIDATION_SPLIT * rnn_data.shape[0])\n",
    "\n",
    "word_index = tokenizer.word_index\n",
    "print('Found %s unique tokens.' % len(word_index))\n",
    "\n",
    "embedding_weights = np.zeros((len(word_index)+1, EMBEDDING_DIM))\n",
    "for word, index in word_index.items():\n",
    "    embedding_weights[index,:] = word2vec[word] if word in word2vec else np.random.rand(EMBEDDING_DIM)\n",
    "print(embedding_weights.shape)"
   ]
  },
  {
   "cell_type": "code",
   "execution_count": 221,
   "metadata": {},
   "outputs": [],
   "source": [
    "from keras.models import Sequential\n",
    "from keras.layers import *\n",
    "from keras.preprocessing.sequence import pad_sequences\n",
    "\n",
    "model = Sequential()\n",
    "model.add(Embedding(len(word_index)+1,\n",
    "                    embedding_size,\n",
    "                    weights=[embedding_weights],\n",
    "                    input_length=MAX_SEQUENCE_LENGTH,\n",
    "                    mask_zero=True,\n",
    "                    trainable=False))\n",
    "# model.add(Bidirectional(LSTM(100)))\n",
    "model.add(LSTM(128, return_sequences=True))\n",
    "model.add(LSTM(128))\n",
    "model.add(Dense(len(df_cleaned['code'].unique()), activation='softmax'))\n",
    "\n",
    "model.compile(optimizer='adam', loss='sparse_categorical_crossentropy', metrics=['accuracy'])"
   ]
  },
  {
   "cell_type": "code",
   "execution_count": 222,
   "metadata": {},
   "outputs": [
    {
     "name": "stdout",
     "output_type": "stream",
     "text": [
      "Train on 1311 samples, validate on 327 samples\n",
      "Epoch 1/200\n",
      "1311/1311 [==============================] - 8s 6ms/step - loss: 2.1857 - acc: 0.2601 - val_loss: 2.0495 - val_acc: 0.2966\n",
      "Epoch 2/200\n",
      "1311/1311 [==============================] - 4s 3ms/step - loss: 1.8526 - acc: 0.3257 - val_loss: 1.7993 - val_acc: 0.3639\n",
      "Epoch 3/200\n",
      "1311/1311 [==============================] - 4s 3ms/step - loss: 1.6474 - acc: 0.3936 - val_loss: 1.7467 - val_acc: 0.3547\n",
      "Epoch 4/200\n",
      "1311/1311 [==============================] - 4s 3ms/step - loss: 1.5157 - acc: 0.4424 - val_loss: 1.6376 - val_acc: 0.4098\n",
      "Epoch 5/200\n",
      "1311/1311 [==============================] - 4s 3ms/step - loss: 1.4277 - acc: 0.4676 - val_loss: 1.6271 - val_acc: 0.4526\n",
      "Epoch 6/200\n",
      "1311/1311 [==============================] - 4s 3ms/step - loss: 1.3394 - acc: 0.5225 - val_loss: 1.5978 - val_acc: 0.4832\n",
      "Epoch 7/200\n",
      "1311/1311 [==============================] - 4s 3ms/step - loss: 1.2542 - acc: 0.5370 - val_loss: 1.5251 - val_acc: 0.5107\n",
      "Epoch 8/200\n",
      "1311/1311 [==============================] - 4s 3ms/step - loss: 1.1856 - acc: 0.5721 - val_loss: 1.4688 - val_acc: 0.5138\n",
      "Epoch 9/200\n",
      "1311/1311 [==============================] - 4s 3ms/step - loss: 1.1088 - acc: 0.5881 - val_loss: 1.5213 - val_acc: 0.5352\n",
      "Epoch 10/200\n",
      "1311/1311 [==============================] - 4s 3ms/step - loss: 1.0345 - acc: 0.6247 - val_loss: 1.4148 - val_acc: 0.5474\n",
      "Epoch 11/200\n",
      "1311/1311 [==============================] - 4s 3ms/step - loss: 0.9714 - acc: 0.6346 - val_loss: 1.5240 - val_acc: 0.5382\n",
      "Epoch 12/200\n",
      "1311/1311 [==============================] - 4s 3ms/step - loss: 0.9466 - acc: 0.6392 - val_loss: 1.6028 - val_acc: 0.5046\n",
      "Epoch 13/200\n",
      "1311/1311 [==============================] - 4s 3ms/step - loss: 0.9081 - acc: 0.6621 - val_loss: 1.4169 - val_acc: 0.5229\n",
      "Epoch 14/200\n",
      "1311/1311 [==============================] - 4s 3ms/step - loss: 0.8527 - acc: 0.6728 - val_loss: 1.5283 - val_acc: 0.5382\n",
      "Epoch 15/200\n",
      "1311/1311 [==============================] - 4s 3ms/step - loss: 0.8278 - acc: 0.6712 - val_loss: 1.5548 - val_acc: 0.5260\n",
      "Epoch 16/200\n",
      "1311/1311 [==============================] - 4s 3ms/step - loss: 0.7406 - acc: 0.7178 - val_loss: 1.6343 - val_acc: 0.4954\n",
      "Epoch 17/200\n",
      "1311/1311 [==============================] - 4s 3ms/step - loss: 0.7923 - acc: 0.6964 - val_loss: 1.5653 - val_acc: 0.5168\n",
      "Epoch 18/200\n",
      "1311/1311 [==============================] - 4s 3ms/step - loss: 0.7393 - acc: 0.7155 - val_loss: 1.7118 - val_acc: 0.5138\n",
      "Epoch 19/200\n",
      "1311/1311 [==============================] - 4s 3ms/step - loss: 0.6586 - acc: 0.7414 - val_loss: 1.6116 - val_acc: 0.5199\n",
      "Epoch 20/200\n",
      "1311/1311 [==============================] - 4s 3ms/step - loss: 0.6410 - acc: 0.7376 - val_loss: 1.7283 - val_acc: 0.4954\n",
      "Epoch 21/200\n",
      "1311/1311 [==============================] - 4s 3ms/step - loss: 0.6365 - acc: 0.7498 - val_loss: 1.6055 - val_acc: 0.5413\n",
      "Epoch 22/200\n",
      "1311/1311 [==============================] - 4s 3ms/step - loss: 0.5631 - acc: 0.7803 - val_loss: 1.6315 - val_acc: 0.5138\n",
      "Epoch 23/200\n",
      "1311/1311 [==============================] - 4s 3ms/step - loss: 0.5090 - acc: 0.7918 - val_loss: 1.7544 - val_acc: 0.5291\n",
      "Epoch 24/200\n",
      "1311/1311 [==============================] - 4s 3ms/step - loss: 0.4864 - acc: 0.7933 - val_loss: 1.8599 - val_acc: 0.5076\n",
      "Epoch 25/200\n",
      "1311/1311 [==============================] - 4s 3ms/step - loss: 0.4774 - acc: 0.7971 - val_loss: 1.7464 - val_acc: 0.5076\n",
      "Epoch 26/200\n",
      "1311/1311 [==============================] - 4s 3ms/step - loss: 0.4427 - acc: 0.8200 - val_loss: 1.9643 - val_acc: 0.4954\n",
      "Epoch 27/200\n",
      "1311/1311 [==============================] - 4s 3ms/step - loss: 0.4203 - acc: 0.8192 - val_loss: 1.8687 - val_acc: 0.5168\n",
      "Epoch 28/200\n",
      "1311/1311 [==============================] - 4s 3ms/step - loss: 0.4035 - acc: 0.8261 - val_loss: 1.9250 - val_acc: 0.5168\n",
      "Epoch 29/200\n",
      "1311/1311 [==============================] - 4s 3ms/step - loss: 0.4138 - acc: 0.8093 - val_loss: 2.0372 - val_acc: 0.4862\n",
      "Epoch 30/200\n",
      "1311/1311 [==============================] - 4s 3ms/step - loss: 0.4404 - acc: 0.8101 - val_loss: 2.2132 - val_acc: 0.4709\n",
      "Epoch 31/200\n",
      "1311/1311 [==============================] - 4s 3ms/step - loss: 0.4743 - acc: 0.7986 - val_loss: 1.9298 - val_acc: 0.4985\n",
      "Epoch 32/200\n",
      "1311/1311 [==============================] - 4s 3ms/step - loss: 0.3986 - acc: 0.8230 - val_loss: 1.9898 - val_acc: 0.4924\n",
      "Epoch 33/200\n",
      "1311/1311 [==============================] - 4s 3ms/step - loss: 0.3581 - acc: 0.8291 - val_loss: 2.0734 - val_acc: 0.4954\n",
      "Epoch 34/200\n",
      "1311/1311 [==============================] - 4s 3ms/step - loss: 0.3946 - acc: 0.8268 - val_loss: 2.1162 - val_acc: 0.4801\n",
      "Epoch 35/200\n",
      "1311/1311 [==============================] - 4s 3ms/step - loss: 0.4074 - acc: 0.8284 - val_loss: 2.1744 - val_acc: 0.4954\n",
      "Epoch 36/200\n",
      "1311/1311 [==============================] - 4s 3ms/step - loss: 0.3752 - acc: 0.8322 - val_loss: 2.1379 - val_acc: 0.4985\n",
      "Epoch 37/200\n",
      "1311/1311 [==============================] - 4s 3ms/step - loss: 0.3490 - acc: 0.8391 - val_loss: 2.0447 - val_acc: 0.4862\n",
      "Epoch 38/200\n",
      "1311/1311 [==============================] - 4s 3ms/step - loss: 0.3093 - acc: 0.8604 - val_loss: 2.2218 - val_acc: 0.4771\n",
      "Epoch 39/200\n",
      "1311/1311 [==============================] - 4s 3ms/step - loss: 0.2888 - acc: 0.8566 - val_loss: 2.2684 - val_acc: 0.4832\n",
      "Epoch 40/200\n",
      "1311/1311 [==============================] - 4s 3ms/step - loss: 0.2849 - acc: 0.8612 - val_loss: 2.3093 - val_acc: 0.4893\n",
      "Epoch 41/200\n",
      "1311/1311 [==============================] - 4s 3ms/step - loss: 0.3186 - acc: 0.8619 - val_loss: 2.2995 - val_acc: 0.4832\n",
      "Epoch 42/200\n",
      "1311/1311 [==============================] - 4s 3ms/step - loss: 0.3235 - acc: 0.8444 - val_loss: 2.2919 - val_acc: 0.4862\n",
      "Epoch 43/200\n",
      "1311/1311 [==============================] - 4s 3ms/step - loss: 0.3060 - acc: 0.8642 - val_loss: 2.3762 - val_acc: 0.4618\n",
      "Epoch 44/200\n",
      "1311/1311 [==============================] - 4s 3ms/step - loss: 0.3473 - acc: 0.8413 - val_loss: 2.3774 - val_acc: 0.4312\n",
      "Epoch 45/200\n",
      "1311/1311 [==============================] - 4s 3ms/step - loss: 0.3574 - acc: 0.8574 - val_loss: 2.1887 - val_acc: 0.4648\n",
      "Epoch 46/200\n",
      "1311/1311 [==============================] - 4s 3ms/step - loss: 0.2942 - acc: 0.8581 - val_loss: 2.1840 - val_acc: 0.4771\n",
      "Epoch 47/200\n",
      "1311/1311 [==============================] - 4s 3ms/step - loss: 0.2598 - acc: 0.8604 - val_loss: 2.2836 - val_acc: 0.4679\n",
      "Epoch 48/200\n",
      "1311/1311 [==============================] - 4s 3ms/step - loss: 0.2449 - acc: 0.8711 - val_loss: 2.4046 - val_acc: 0.4709\n",
      "Epoch 49/200\n",
      "1311/1311 [==============================] - 4s 3ms/step - loss: 0.2402 - acc: 0.8711 - val_loss: 2.3954 - val_acc: 0.4679\n",
      "Epoch 50/200\n",
      "1311/1311 [==============================] - 4s 3ms/step - loss: 0.2370 - acc: 0.8688 - val_loss: 2.5702 - val_acc: 0.4648\n",
      "Epoch 51/200\n",
      "1311/1311 [==============================] - 4s 3ms/step - loss: 0.2331 - acc: 0.8780 - val_loss: 2.4785 - val_acc: 0.4648\n",
      "Epoch 52/200\n",
      "1311/1311 [==============================] - 4s 3ms/step - loss: 0.2268 - acc: 0.8726 - val_loss: 2.5513 - val_acc: 0.4832\n",
      "Epoch 53/200\n",
      "1311/1311 [==============================] - 4s 3ms/step - loss: 0.2318 - acc: 0.8673 - val_loss: 2.6074 - val_acc: 0.4740\n",
      "Epoch 54/200\n",
      " 512/1311 [==========>...................] - ETA: 2s - loss: 0.2021 - acc: 0.9004"
     ]
    },
    {
     "ename": "KeyboardInterrupt",
     "evalue": "",
     "output_type": "error",
     "traceback": [
      "\u001b[0;31m-------------------------------------------------------\u001b[0m",
      "\u001b[0;31mKeyboardInterrupt\u001b[0m     Traceback (most recent call last)",
      "\u001b[0;32m<ipython-input-222-c8a9953d8b22>\u001b[0m in \u001b[0;36m<module>\u001b[0;34m\u001b[0m\n\u001b[1;32m      4\u001b[0m \u001b[0my_val\u001b[0m \u001b[0;34m=\u001b[0m \u001b[0mlabels\u001b[0m\u001b[0;34m[\u001b[0m\u001b[0;34m-\u001b[0m\u001b[0mnum_validation_samples\u001b[0m\u001b[0;34m:\u001b[0m\u001b[0;34m]\u001b[0m\u001b[0;34m\u001b[0m\u001b[0;34m\u001b[0m\u001b[0m\n\u001b[1;32m      5\u001b[0m \u001b[0;34m\u001b[0m\u001b[0m\n\u001b[0;32m----> 6\u001b[0;31m \u001b[0mrnn_fit\u001b[0m \u001b[0;34m=\u001b[0m \u001b[0mmodel\u001b[0m\u001b[0;34m.\u001b[0m\u001b[0mfit\u001b[0m\u001b[0;34m(\u001b[0m\u001b[0mx_train\u001b[0m\u001b[0;34m,\u001b[0m \u001b[0my_train\u001b[0m\u001b[0;34m,\u001b[0m \u001b[0mvalidation_data\u001b[0m\u001b[0;34m=\u001b[0m\u001b[0;34m(\u001b[0m\u001b[0mx_val\u001b[0m\u001b[0;34m,\u001b[0m \u001b[0my_val\u001b[0m\u001b[0;34m)\u001b[0m\u001b[0;34m,\u001b[0m \u001b[0mepochs\u001b[0m\u001b[0;34m=\u001b[0m\u001b[0;36m200\u001b[0m\u001b[0;34m,\u001b[0m \u001b[0mbatch_size\u001b[0m\u001b[0;34m=\u001b[0m\u001b[0;36m64\u001b[0m\u001b[0;34m,\u001b[0m \u001b[0mverbose\u001b[0m\u001b[0;34m=\u001b[0m\u001b[0;36m1\u001b[0m\u001b[0;34m)\u001b[0m\u001b[0;34m\u001b[0m\u001b[0;34m\u001b[0m\u001b[0m\n\u001b[0m",
      "\u001b[0;32m~/anaconda2/envs/stan/lib/python3.7/site-packages/keras/engine/training.py\u001b[0m in \u001b[0;36mfit\u001b[0;34m(self, x, y, batch_size, epochs, verbose, callbacks, validation_split, validation_data, shuffle, class_weight, sample_weight, initial_epoch, steps_per_epoch, validation_steps, **kwargs)\u001b[0m\n\u001b[1;32m   1037\u001b[0m                                         \u001b[0minitial_epoch\u001b[0m\u001b[0;34m=\u001b[0m\u001b[0minitial_epoch\u001b[0m\u001b[0;34m,\u001b[0m\u001b[0;34m\u001b[0m\u001b[0;34m\u001b[0m\u001b[0m\n\u001b[1;32m   1038\u001b[0m                                         \u001b[0msteps_per_epoch\u001b[0m\u001b[0;34m=\u001b[0m\u001b[0msteps_per_epoch\u001b[0m\u001b[0;34m,\u001b[0m\u001b[0;34m\u001b[0m\u001b[0;34m\u001b[0m\u001b[0m\n\u001b[0;32m-> 1039\u001b[0;31m                                         validation_steps=validation_steps)\n\u001b[0m\u001b[1;32m   1040\u001b[0m \u001b[0;34m\u001b[0m\u001b[0m\n\u001b[1;32m   1041\u001b[0m     def evaluate(self, x=None, y=None,\n",
      "\u001b[0;32m~/anaconda2/envs/stan/lib/python3.7/site-packages/keras/engine/training_arrays.py\u001b[0m in \u001b[0;36mfit_loop\u001b[0;34m(model, f, ins, out_labels, batch_size, epochs, verbose, callbacks, val_f, val_ins, shuffle, callback_metrics, initial_epoch, steps_per_epoch, validation_steps)\u001b[0m\n\u001b[1;32m    197\u001b[0m                     \u001b[0mins_batch\u001b[0m\u001b[0;34m[\u001b[0m\u001b[0mi\u001b[0m\u001b[0;34m]\u001b[0m \u001b[0;34m=\u001b[0m \u001b[0mins_batch\u001b[0m\u001b[0;34m[\u001b[0m\u001b[0mi\u001b[0m\u001b[0;34m]\u001b[0m\u001b[0;34m.\u001b[0m\u001b[0mtoarray\u001b[0m\u001b[0;34m(\u001b[0m\u001b[0;34m)\u001b[0m\u001b[0;34m\u001b[0m\u001b[0;34m\u001b[0m\u001b[0m\n\u001b[1;32m    198\u001b[0m \u001b[0;34m\u001b[0m\u001b[0m\n\u001b[0;32m--> 199\u001b[0;31m                 \u001b[0mouts\u001b[0m \u001b[0;34m=\u001b[0m \u001b[0mf\u001b[0m\u001b[0;34m(\u001b[0m\u001b[0mins_batch\u001b[0m\u001b[0;34m)\u001b[0m\u001b[0;34m\u001b[0m\u001b[0;34m\u001b[0m\u001b[0m\n\u001b[0m\u001b[1;32m    200\u001b[0m                 \u001b[0mouts\u001b[0m \u001b[0;34m=\u001b[0m \u001b[0mto_list\u001b[0m\u001b[0;34m(\u001b[0m\u001b[0mouts\u001b[0m\u001b[0;34m)\u001b[0m\u001b[0;34m\u001b[0m\u001b[0;34m\u001b[0m\u001b[0m\n\u001b[1;32m    201\u001b[0m                 \u001b[0;32mfor\u001b[0m \u001b[0ml\u001b[0m\u001b[0;34m,\u001b[0m \u001b[0mo\u001b[0m \u001b[0;32min\u001b[0m \u001b[0mzip\u001b[0m\u001b[0;34m(\u001b[0m\u001b[0mout_labels\u001b[0m\u001b[0;34m,\u001b[0m \u001b[0mouts\u001b[0m\u001b[0;34m)\u001b[0m\u001b[0;34m:\u001b[0m\u001b[0;34m\u001b[0m\u001b[0;34m\u001b[0m\u001b[0m\n",
      "\u001b[0;32m~/anaconda2/envs/stan/lib/python3.7/site-packages/keras/backend/tensorflow_backend.py\u001b[0m in \u001b[0;36m__call__\u001b[0;34m(self, inputs)\u001b[0m\n\u001b[1;32m   2713\u001b[0m                 \u001b[0;32mreturn\u001b[0m \u001b[0mself\u001b[0m\u001b[0;34m.\u001b[0m\u001b[0m_legacy_call\u001b[0m\u001b[0;34m(\u001b[0m\u001b[0minputs\u001b[0m\u001b[0;34m)\u001b[0m\u001b[0;34m\u001b[0m\u001b[0;34m\u001b[0m\u001b[0m\n\u001b[1;32m   2714\u001b[0m \u001b[0;34m\u001b[0m\u001b[0m\n\u001b[0;32m-> 2715\u001b[0;31m             \u001b[0;32mreturn\u001b[0m \u001b[0mself\u001b[0m\u001b[0;34m.\u001b[0m\u001b[0m_call\u001b[0m\u001b[0;34m(\u001b[0m\u001b[0minputs\u001b[0m\u001b[0;34m)\u001b[0m\u001b[0;34m\u001b[0m\u001b[0;34m\u001b[0m\u001b[0m\n\u001b[0m\u001b[1;32m   2716\u001b[0m         \u001b[0;32melse\u001b[0m\u001b[0;34m:\u001b[0m\u001b[0;34m\u001b[0m\u001b[0;34m\u001b[0m\u001b[0m\n\u001b[1;32m   2717\u001b[0m             \u001b[0;32mif\u001b[0m \u001b[0mpy_any\u001b[0m\u001b[0;34m(\u001b[0m\u001b[0mis_tensor\u001b[0m\u001b[0;34m(\u001b[0m\u001b[0mx\u001b[0m\u001b[0;34m)\u001b[0m \u001b[0;32mfor\u001b[0m \u001b[0mx\u001b[0m \u001b[0;32min\u001b[0m \u001b[0minputs\u001b[0m\u001b[0;34m)\u001b[0m\u001b[0;34m:\u001b[0m\u001b[0;34m\u001b[0m\u001b[0;34m\u001b[0m\u001b[0m\n",
      "\u001b[0;32m~/anaconda2/envs/stan/lib/python3.7/site-packages/keras/backend/tensorflow_backend.py\u001b[0m in \u001b[0;36m_call\u001b[0;34m(self, inputs)\u001b[0m\n\u001b[1;32m   2673\u001b[0m             \u001b[0mfetched\u001b[0m \u001b[0;34m=\u001b[0m \u001b[0mself\u001b[0m\u001b[0;34m.\u001b[0m\u001b[0m_callable_fn\u001b[0m\u001b[0;34m(\u001b[0m\u001b[0;34m*\u001b[0m\u001b[0marray_vals\u001b[0m\u001b[0;34m,\u001b[0m \u001b[0mrun_metadata\u001b[0m\u001b[0;34m=\u001b[0m\u001b[0mself\u001b[0m\u001b[0;34m.\u001b[0m\u001b[0mrun_metadata\u001b[0m\u001b[0;34m)\u001b[0m\u001b[0;34m\u001b[0m\u001b[0;34m\u001b[0m\u001b[0m\n\u001b[1;32m   2674\u001b[0m         \u001b[0;32melse\u001b[0m\u001b[0;34m:\u001b[0m\u001b[0;34m\u001b[0m\u001b[0;34m\u001b[0m\u001b[0m\n\u001b[0;32m-> 2675\u001b[0;31m             \u001b[0mfetched\u001b[0m \u001b[0;34m=\u001b[0m \u001b[0mself\u001b[0m\u001b[0;34m.\u001b[0m\u001b[0m_callable_fn\u001b[0m\u001b[0;34m(\u001b[0m\u001b[0;34m*\u001b[0m\u001b[0marray_vals\u001b[0m\u001b[0;34m)\u001b[0m\u001b[0;34m\u001b[0m\u001b[0;34m\u001b[0m\u001b[0m\n\u001b[0m\u001b[1;32m   2676\u001b[0m         \u001b[0;32mreturn\u001b[0m \u001b[0mfetched\u001b[0m\u001b[0;34m[\u001b[0m\u001b[0;34m:\u001b[0m\u001b[0mlen\u001b[0m\u001b[0;34m(\u001b[0m\u001b[0mself\u001b[0m\u001b[0;34m.\u001b[0m\u001b[0moutputs\u001b[0m\u001b[0;34m)\u001b[0m\u001b[0;34m]\u001b[0m\u001b[0;34m\u001b[0m\u001b[0;34m\u001b[0m\u001b[0m\n\u001b[1;32m   2677\u001b[0m \u001b[0;34m\u001b[0m\u001b[0m\n",
      "\u001b[0;32m~/anaconda2/envs/stan/lib/python3.7/site-packages/tensorflow/python/client/session.py\u001b[0m in \u001b[0;36m__call__\u001b[0;34m(self, *args, **kwargs)\u001b[0m\n\u001b[1;32m   1437\u001b[0m           ret = tf_session.TF_SessionRunCallable(\n\u001b[1;32m   1438\u001b[0m               \u001b[0mself\u001b[0m\u001b[0;34m.\u001b[0m\u001b[0m_session\u001b[0m\u001b[0;34m.\u001b[0m\u001b[0m_session\u001b[0m\u001b[0;34m,\u001b[0m \u001b[0mself\u001b[0m\u001b[0;34m.\u001b[0m\u001b[0m_handle\u001b[0m\u001b[0;34m,\u001b[0m \u001b[0margs\u001b[0m\u001b[0;34m,\u001b[0m \u001b[0mstatus\u001b[0m\u001b[0;34m,\u001b[0m\u001b[0;34m\u001b[0m\u001b[0;34m\u001b[0m\u001b[0m\n\u001b[0;32m-> 1439\u001b[0;31m               run_metadata_ptr)\n\u001b[0m\u001b[1;32m   1440\u001b[0m         \u001b[0;32mif\u001b[0m \u001b[0mrun_metadata\u001b[0m\u001b[0;34m:\u001b[0m\u001b[0;34m\u001b[0m\u001b[0;34m\u001b[0m\u001b[0m\n\u001b[1;32m   1441\u001b[0m           \u001b[0mproto_data\u001b[0m \u001b[0;34m=\u001b[0m \u001b[0mtf_session\u001b[0m\u001b[0;34m.\u001b[0m\u001b[0mTF_GetBuffer\u001b[0m\u001b[0;34m(\u001b[0m\u001b[0mrun_metadata_ptr\u001b[0m\u001b[0;34m)\u001b[0m\u001b[0;34m\u001b[0m\u001b[0;34m\u001b[0m\u001b[0m\n",
      "\u001b[0;31mKeyboardInterrupt\u001b[0m: "
     ]
    }
   ],
   "source": [
    "x_train = rnn_data[:-num_validation_samples]\n",
    "y_train = labels[:-num_validation_samples]\n",
    "x_val = rnn_data[-num_validation_samples:]\n",
    "y_val = labels[-num_validation_samples:]\n",
    "\n",
    "rnn_fit = model.fit(x_train, y_train, validation_data=(x_val, y_val), epochs=200, batch_size=64, verbose=1)"
   ]
  },
  {
   "cell_type": "markdown",
   "metadata": {},
   "source": [
    "## CNN"
   ]
  },
  {
   "cell_type": "code",
   "execution_count": 203,
   "metadata": {},
   "outputs": [],
   "source": [
    "from keras.layers import Dense, Input, Flatten, Dropout\n",
    "from keras.layers import Concatenate\n",
    "from keras.layers import Conv1D, MaxPooling1D, Embedding\n",
    "from keras.layers import LSTM, Bidirectional\n",
    "from keras.models import Model\n",
    "\n",
    "def ConvNet(embeddings, max_sequence_length, num_words, embedding_dim, labels_index, trainable=False, extra_conv=True):\n",
    "    \n",
    "    embedding_layer = Embedding(num_words,\n",
    "                            embedding_dim,\n",
    "                            weights=[embeddings],\n",
    "                            input_length=max_sequence_length,\n",
    "                            trainable=trainable)\n",
    "\n",
    "    sequence_input = Input(shape=(max_sequence_length,), dtype='int32')\n",
    "    embedded_sequences = embedding_layer(sequence_input)\n",
    "\n",
    "    # Yoon Kim model (https://arxiv.org/abs/1408.5882)\n",
    "    convs = []\n",
    "    filter_sizes = [3,4,5]\n",
    "\n",
    "    for filter_size in filter_sizes:\n",
    "        l_conv = Conv1D(filters=128, kernel_size=filter_size, activation='relu')(embedded_sequences)\n",
    "        l_pool = MaxPooling1D(pool_size=3)(l_conv)\n",
    "        convs.append(l_pool)\n",
    "\n",
    "    l_merge = Concatenate(axis=1)(convs)\n",
    "\n",
    "    # add a 1D convnet with global maxpooling, instead of Yoon Kim model\n",
    "    conv = Conv1D(filters=128, kernel_size=3, activation='relu')(embedded_sequences)\n",
    "    pool = MaxPooling1D(pool_size=3)(conv)\n",
    "\n",
    "    if extra_conv==True:\n",
    "        x = Dropout(0.5)(l_merge)  \n",
    "    else:\n",
    "        # Original Yoon Kim model\n",
    "        x = Dropout(0.5)(pool)\n",
    "    x = Flatten()(x)\n",
    "    x = Dense(128, activation='relu')(x)\n",
    "    #x = Dropout(0.5)(x)\n",
    "\n",
    "    preds = Dense(labels_index, activation='softmax')(x)\n",
    "\n",
    "    model = Model(sequence_input, preds)\n",
    "    model.compile(loss='categorical_crossentropy',\n",
    "                  optimizer='adam',\n",
    "                  metrics=['acc'])\n",
    "\n",
    "    return model"
   ]
  },
  {
   "cell_type": "code",
   "execution_count": 209,
   "metadata": {},
   "outputs": [],
   "source": [
    "factorized_codes = pd.factorize(df_cleaned[\"code\"])[0]\n",
    "factorized_codes_dict = pd.factorize(df_cleaned[\"code\"])[1]\n",
    "\n",
    "cnn_labels = to_categorical(np.asarray(factorized_codes))\n",
    "\n",
    "indices = np.arange(rnn_data.shape[0])\n",
    "np.random.shuffle(indices)\n",
    "rnn_data = rnn_data[indices]\n",
    "cnn_labels = cnn_labels[indices]\n",
    "\n",
    "x_train = rnn_data[:-num_validation_samples]\n",
    "y_train = cnn_labels[:-num_validation_samples]\n",
    "x_val = rnn_data[-num_validation_samples:]\n",
    "y_val = cnn_labels[-num_validation_samples:]\n",
    "\n",
    "cnn_model = ConvNet(embedding_weights, MAX_SEQUENCE_LENGTH, len(word_index)+1, EMBEDDING_DIM, \n",
    "                len(list(df_cleaned[\"code\"].unique())), False)"
   ]
  },
  {
   "cell_type": "code",
   "execution_count": null,
   "metadata": {},
   "outputs": [],
   "source": [
    "cnn_model.fit(x_train, y_train, validation_data=(x_val, y_val), epochs=100, batch_size=64)"
   ]
  },
  {
   "cell_type": "code",
   "execution_count": 155,
   "metadata": {},
   "outputs": [
    {
     "name": "stdout",
     "output_type": "stream",
     "text": [
      "__________________________________________________________________________________________________\n",
      "Layer (type)                    Output Shape         Param #     Connected to                     \n",
      "==================================================================================================\n",
      "input_12 (InputLayer)           (None, 55)           0                                            \n",
      "__________________________________________________________________________________________________\n",
      "embedding_26 (Embedding)        (None, 55, 300)      640800      input_12[0][0]                   \n",
      "__________________________________________________________________________________________________\n",
      "conv1d_36 (Conv1D)              (None, 53, 128)      115328      embedding_26[0][0]               \n",
      "__________________________________________________________________________________________________\n",
      "conv1d_37 (Conv1D)              (None, 52, 128)      153728      embedding_26[0][0]               \n",
      "__________________________________________________________________________________________________\n",
      "conv1d_38 (Conv1D)              (None, 51, 128)      192128      embedding_26[0][0]               \n",
      "__________________________________________________________________________________________________\n",
      "max_pooling1d_36 (MaxPooling1D) (None, 17, 128)      0           conv1d_36[0][0]                  \n",
      "__________________________________________________________________________________________________\n",
      "max_pooling1d_37 (MaxPooling1D) (None, 17, 128)      0           conv1d_37[0][0]                  \n",
      "__________________________________________________________________________________________________\n",
      "max_pooling1d_38 (MaxPooling1D) (None, 17, 128)      0           conv1d_38[0][0]                  \n",
      "__________________________________________________________________________________________________\n",
      "concatenate_4 (Concatenate)     (None, 51, 128)      0           max_pooling1d_36[0][0]           \n",
      "                                                                 max_pooling1d_37[0][0]           \n",
      "                                                                 max_pooling1d_38[0][0]           \n",
      "__________________________________________________________________________________________________\n",
      "dropout_8 (Dropout)             (None, 51, 128)      0           concatenate_4[0][0]              \n",
      "__________________________________________________________________________________________________\n",
      "flatten_8 (Flatten)             (None, 6528)         0           dropout_8[0][0]                  \n",
      "__________________________________________________________________________________________________\n",
      "dense_19 (Dense)                (None, 128)          835712      flatten_8[0][0]                  \n",
      "__________________________________________________________________________________________________\n",
      "dense_20 (Dense)                (None, 5)            645         dense_19[0][0]                   \n",
      "==================================================================================================\n",
      "Total params: 1,938,341\n",
      "Trainable params: 1,297,541\n",
      "Non-trainable params: 640,800\n",
      "__________________________________________________________________________________________________\n"
     ]
    }
   ],
   "source": [
    "from keras.utils import print_summary, plot_model\n",
    "\n",
    "print_summary(cnn_model)"
   ]
  },
  {
   "cell_type": "code",
   "execution_count": 200,
   "metadata": {},
   "outputs": [
    {
     "data": {
      "text/plain": [
       "(1093, 5)"
      ]
     },
     "execution_count": 200,
     "metadata": {},
     "output_type": "execute_result"
    }
   ],
   "source": [
    "cnn_labels.shape"
   ]
  },
  {
   "cell_type": "code",
   "execution_count": null,
   "metadata": {},
   "outputs": [],
   "source": []
  }
 ],
 "metadata": {
  "kernelspec": {
   "display_name": ".venv",
   "language": "python",
   "name": ".venv"
  },
  "language_info": {
   "codemirror_mode": {
    "name": "ipython",
    "version": 3
   },
   "file_extension": ".py",
   "mimetype": "text/x-python",
   "name": "python",
   "nbconvert_exporter": "python",
   "pygments_lexer": "ipython3",
   "version": "3.7.2"
  }
 },
 "nbformat": 4,
 "nbformat_minor": 2
}
