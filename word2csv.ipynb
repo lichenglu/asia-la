{
 "cells": [
  {
   "cell_type": "code",
   "execution_count": 58,
   "metadata": {},
   "outputs": [],
   "source": [
    "from glob import glob\n",
    "from pathlib import Path\n",
    "import docx2txt\n",
    "import re\n",
    "import os\n",
    "import pandas as pd"
   ]
  },
  {
   "cell_type": "code",
   "execution_count": 92,
   "metadata": {},
   "outputs": [],
   "source": [
    "def get_filename(path):\n",
    "    return os.path.splitext(os.path.basename(path))[0]\n",
    "\n",
    "def extract_codes(filename):\n",
    "    list_dict = []\n",
    "    code = get_filename(filename)\n",
    "    quotes = list(filter(lambda x: x, docx2txt.process(filename).split('\\n')))\n",
    "    for quote in quotes:\n",
    "        # ignore line such as 'Reference 1 - 0.07% Coverage' or Files\\\\\\\\training set_ellen...\n",
    "        if not regex.search(quote):\n",
    "            list_dict.append({\"text\": quote, \"code\": code})\n",
    "    return list_dict"
   ]
  },
  {
   "cell_type": "code",
   "execution_count": 95,
   "metadata": {},
   "outputs": [],
   "source": [
    "regex = re.compile(r'^(Files\\\\\\\\|Reference)\\b.*(Coverage|Coverage])$')"
   ]
  },
  {
   "cell_type": "markdown",
   "metadata": {},
   "source": [
    "## Extract training set"
   ]
  },
  {
   "cell_type": "code",
   "execution_count": 98,
   "metadata": {},
   "outputs": [],
   "source": [
    "list_dict = []\n",
    "for filename in Path('./training set').glob('**/*.docx'):\n",
    "    list_dict = [*list_dict, *extract_codes(filename)]"
   ]
  },
  {
   "cell_type": "code",
   "execution_count": 99,
   "metadata": {},
   "outputs": [],
   "source": [
    "df_train = pd.DataFrame(list_dict)\n",
    "df_train.to_csv('./train.csv', index=None)"
   ]
  },
  {
   "cell_type": "markdown",
   "metadata": {},
   "source": [
    "## Extract testing set"
   ]
  },
  {
   "cell_type": "code",
   "execution_count": 100,
   "metadata": {},
   "outputs": [],
   "source": [
    "list_dict = []\n",
    "for filename in Path('./testing set').glob('**/*.docx'):\n",
    "    list_dict = [*list_dict, *extract_codes(filename)]"
   ]
  },
  {
   "cell_type": "code",
   "execution_count": 101,
   "metadata": {},
   "outputs": [],
   "source": [
    "df_test = pd.DataFrame(list_dict)\n",
    "df_test.to_csv('./test.csv', index=None)"
   ]
  },
  {
   "cell_type": "markdown",
   "metadata": {},
   "source": [
    "## Concat both"
   ]
  },
  {
   "cell_type": "code",
   "execution_count": 102,
   "metadata": {},
   "outputs": [],
   "source": [
    "pd.concat([df_train, df_test]).sample(frac=1).to_csv('./all.csv', index=None)"
   ]
  },
  {
   "cell_type": "code",
   "execution_count": null,
   "metadata": {},
   "outputs": [],
   "source": []
  }
 ],
 "metadata": {
  "kernelspec": {
   "display_name": ".venv",
   "language": "python",
   "name": ".venv"
  },
  "language_info": {
   "codemirror_mode": {
    "name": "ipython",
    "version": 3
   },
   "file_extension": ".py",
   "mimetype": "text/x-python",
   "name": "python",
   "nbconvert_exporter": "python",
   "pygments_lexer": "ipython3",
   "version": "3.7.2"
  }
 },
 "nbformat": 4,
 "nbformat_minor": 2
}
